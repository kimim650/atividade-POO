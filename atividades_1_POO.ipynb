{
  "nbformat": 4,
  "nbformat_minor": 0,
  "metadata": {
    "colab": {
      "provenance": []
    },
    "kernelspec": {
      "name": "python3",
      "display_name": "Python 3"
    },
    "language_info": {
      "name": "python"
    }
  },
  "cells": [
    {
      "cell_type": "markdown",
      "source": [
        "Questão 1"
      ],
      "metadata": {
        "id": "sj3DaXIS8N67"
      }
    },
    {
      "cell_type": "code",
      "source": [
        "n = 5\n",
        "m = 15\n",
        "for i in range (n, m+1):\n",
        "  print(f\"tabela de {i}\")\n",
        "  for j in range (5, m+1):\n",
        "    resultado = i*j\n",
        "    print(f\"{i} x {j} = {resultado}\")"
      ],
      "metadata": {
        "colab": {
          "base_uri": "https://localhost:8080/"
        },
        "id": "XSkgABe0-rES",
        "outputId": "88cdbd37-33db-4ec9-e208-1bb2744d7dcb"
      },
      "execution_count": null,
      "outputs": [
        {
          "output_type": "stream",
          "name": "stdout",
          "text": [
            "tabela de 5\n",
            "5 x 5 = 25\n",
            "5 x 6 = 30\n",
            "5 x 7 = 35\n",
            "5 x 8 = 40\n",
            "5 x 9 = 45\n",
            "5 x 10 = 50\n",
            "5 x 11 = 55\n",
            "5 x 12 = 60\n",
            "5 x 13 = 65\n",
            "5 x 14 = 70\n",
            "5 x 15 = 75\n",
            "tabela de 6\n",
            "6 x 5 = 30\n",
            "6 x 6 = 36\n",
            "6 x 7 = 42\n",
            "6 x 8 = 48\n",
            "6 x 9 = 54\n",
            "6 x 10 = 60\n",
            "6 x 11 = 66\n",
            "6 x 12 = 72\n",
            "6 x 13 = 78\n",
            "6 x 14 = 84\n",
            "6 x 15 = 90\n",
            "tabela de 7\n",
            "7 x 5 = 35\n",
            "7 x 6 = 42\n",
            "7 x 7 = 49\n",
            "7 x 8 = 56\n",
            "7 x 9 = 63\n",
            "7 x 10 = 70\n",
            "7 x 11 = 77\n",
            "7 x 12 = 84\n",
            "7 x 13 = 91\n",
            "7 x 14 = 98\n",
            "7 x 15 = 105\n",
            "tabela de 8\n",
            "8 x 5 = 40\n",
            "8 x 6 = 48\n",
            "8 x 7 = 56\n",
            "8 x 8 = 64\n",
            "8 x 9 = 72\n",
            "8 x 10 = 80\n",
            "8 x 11 = 88\n",
            "8 x 12 = 96\n",
            "8 x 13 = 104\n",
            "8 x 14 = 112\n",
            "8 x 15 = 120\n",
            "tabela de 9\n",
            "9 x 5 = 45\n",
            "9 x 6 = 54\n",
            "9 x 7 = 63\n",
            "9 x 8 = 72\n",
            "9 x 9 = 81\n",
            "9 x 10 = 90\n",
            "9 x 11 = 99\n",
            "9 x 12 = 108\n",
            "9 x 13 = 117\n",
            "9 x 14 = 126\n",
            "9 x 15 = 135\n",
            "tabela de 10\n",
            "10 x 5 = 50\n",
            "10 x 6 = 60\n",
            "10 x 7 = 70\n",
            "10 x 8 = 80\n",
            "10 x 9 = 90\n",
            "10 x 10 = 100\n",
            "10 x 11 = 110\n",
            "10 x 12 = 120\n",
            "10 x 13 = 130\n",
            "10 x 14 = 140\n",
            "10 x 15 = 150\n",
            "tabela de 11\n",
            "11 x 5 = 55\n",
            "11 x 6 = 66\n",
            "11 x 7 = 77\n",
            "11 x 8 = 88\n",
            "11 x 9 = 99\n",
            "11 x 10 = 110\n",
            "11 x 11 = 121\n",
            "11 x 12 = 132\n",
            "11 x 13 = 143\n",
            "11 x 14 = 154\n",
            "11 x 15 = 165\n",
            "tabela de 12\n",
            "12 x 5 = 60\n",
            "12 x 6 = 72\n",
            "12 x 7 = 84\n",
            "12 x 8 = 96\n",
            "12 x 9 = 108\n",
            "12 x 10 = 120\n",
            "12 x 11 = 132\n",
            "12 x 12 = 144\n",
            "12 x 13 = 156\n",
            "12 x 14 = 168\n",
            "12 x 15 = 180\n",
            "tabela de 13\n",
            "13 x 5 = 65\n",
            "13 x 6 = 78\n",
            "13 x 7 = 91\n",
            "13 x 8 = 104\n",
            "13 x 9 = 117\n",
            "13 x 10 = 130\n",
            "13 x 11 = 143\n",
            "13 x 12 = 156\n",
            "13 x 13 = 169\n",
            "13 x 14 = 182\n",
            "13 x 15 = 195\n",
            "tabela de 14\n",
            "14 x 5 = 70\n",
            "14 x 6 = 84\n",
            "14 x 7 = 98\n",
            "14 x 8 = 112\n",
            "14 x 9 = 126\n",
            "14 x 10 = 140\n",
            "14 x 11 = 154\n",
            "14 x 12 = 168\n",
            "14 x 13 = 182\n",
            "14 x 14 = 196\n",
            "14 x 15 = 210\n",
            "tabela de 15\n",
            "15 x 5 = 75\n",
            "15 x 6 = 90\n",
            "15 x 7 = 105\n",
            "15 x 8 = 120\n",
            "15 x 9 = 135\n",
            "15 x 10 = 150\n",
            "15 x 11 = 165\n",
            "15 x 12 = 180\n",
            "15 x 13 = 195\n",
            "15 x 14 = 210\n",
            "15 x 15 = 225\n"
          ]
        }
      ]
    },
    {
      "cell_type": "markdown",
      "source": [
        "Questão 2"
      ],
      "metadata": {
        "id": "gJOcRKIv887X"
      }
    },
    {
      "cell_type": "code",
      "source": [
        "CPF = input(\"Digite seu cpf:\")\n",
        "num_digitos = len(CPF)\n",
        "if num_digitos == 11:\n",
        "  print(\"CPF válido\")\n",
        "else:\n",
        "  print(\"CPF inválido\")\n"
      ],
      "metadata": {
        "id": "5JiWSE5Q9CAy",
        "colab": {
          "base_uri": "https://localhost:8080/"
        },
        "outputId": "723d8a82-341b-43f6-ccc2-d1fbf4d2ecc0"
      },
      "execution_count": null,
      "outputs": [
        {
          "output_type": "stream",
          "name": "stdout",
          "text": [
            "Digite seu cpf:213524335\n",
            "CPF inválido\n"
          ]
        }
      ]
    },
    {
      "cell_type": "markdown",
      "source": [
        "Questão 3"
      ],
      "metadata": {
        "id": "iOD-HOKiE8y8"
      }
    },
    {
      "cell_type": "code",
      "source": [
        "def fibonacci(n):\n",
        "  sequencia = [0, 1]\n",
        "  for i in range(2, n+1):\n",
        "    sequencia.append(sequencia[i-1] + sequencia[i-2])\n",
        "  return sequencia\n",
        "\n",
        "n = 9\n",
        "resultado = fibonacci(n)\n",
        "print(resultado)"
      ],
      "metadata": {
        "colab": {
          "base_uri": "https://localhost:8080/"
        },
        "id": "qETeCDOEC4UR",
        "outputId": "9719d069-4ec3-4d27-b943-523f1d82fc18"
      },
      "execution_count": null,
      "outputs": [
        {
          "output_type": "stream",
          "name": "stdout",
          "text": [
            "[0, 1, 1, 2, 3, 5, 8, 13, 21, 34]\n"
          ]
        }
      ]
    },
    {
      "cell_type": "markdown",
      "source": [
        "Exercicio 1"
      ],
      "metadata": {
        "id": "gld9JJGrqaSY"
      }
    },
    {
      "cell_type": "code",
      "source": [
        "def calcular_investimento():\n",
        "\n",
        "    investimento_mensal = float(input(\"Informe o valor a ser investido por mês (R$): \"))\n",
        "    taxa_juros = float(input(\"Informe a taxa de juros mensal (%): \")) / 100\n",
        "\n",
        "    saldo_total = 0\n",
        "    ano = 1\n",
        "\n",
        "    while True:\n",
        "        for _ in range(12):\n",
        "            saldo_total += investimento_mensal\n",
        "            saldo_total += saldo_total * taxa_juros\n",
        "\n",
        "        print(f\"Saldo do investimento após {ano} ano(s): R$ {saldo_total:.2f}\")\n",
        "        continuar = input(\"Deseja processar mais um ano? (S/N): \").strip().upper()\n",
        "        if continuar != 'S':\n",
        "            break\n",
        "\n",
        "        ano += 1\n",
        "calcular_investimento()"
      ],
      "metadata": {
        "colab": {
          "base_uri": "https://localhost:8080/"
        },
        "id": "XAK99Fxvp9fn",
        "outputId": "fad39264-c8b1-4f1f-d64d-a2510cef13b3"
      },
      "execution_count": null,
      "outputs": [
        {
          "name": "stdout",
          "output_type": "stream",
          "text": [
            "Informe o valor a ser investido por mês (R$): 32132421443\n",
            "Informe a taxa de juros mensal (%): 343\n",
            "Saldo do investimento após 1 ano(s): R$ 2370815553439958528.00\n",
            "Deseja processar mais um ano? (S/N): s\n",
            "Saldo do investimento após 2 ano(s): R$ 135438610626839191136239616.00\n",
            "Deseja processar mais um ano? (S/N): s\n",
            "Saldo do investimento após 3 ano(s): R$ 7737260243975008928944063321735168.00\n",
            "Deseja processar mais um ano? (S/N): s\n",
            "Saldo do investimento após 4 ano(s): R$ 442009821319984671310311208347178035576832.00\n",
            "Deseja processar mais um ano? (S/N): s\n",
            "Saldo do investimento após 5 ano(s): R$ 25250886745791082279664531455650146527361342898176.00\n",
            "Deseja processar mais um ano? (S/N): s\n",
            "Saldo do investimento após 6 ano(s): R$ 1442518357498631084882114193723547545095682763896364466176.00\n",
            "Deseja processar mais um ano? (S/N): s\n",
            "Saldo do investimento após 7 ano(s): R$ 82407371775464241243449247140088836378622367844488872647739834368.00\n",
            "Deseja processar mais um ano? (S/N): n\n"
          ]
        }
      ]
    },
    {
      "cell_type": "markdown",
      "source": [
        "Exercicio 2"
      ],
      "metadata": {
        "id": "C-kaajQcpQm3"
      }
    },
    {
      "cell_type": "code",
      "source": [
        "def calcular_pi(termos):\n",
        "\n",
        "    pi_sobre_4 = 0\n",
        "    for i in range(termos):\n",
        "        termo = (-1) ** i / (2 * i + 1)\n",
        "        pi_sobre_4 += termo\n",
        "    return pi_sobre_4 * 4\n",
        "\n",
        "n = int(input(\"Digite o número de termos para calcular π: \"))\n",
        "\n",
        "pi_aproximado = calcular_pi(n)\n",
        "\n",
        "print(f\"Aproximação de π com {n} termos: {pi_aproximado}\")"
      ],
      "metadata": {
        "colab": {
          "base_uri": "https://localhost:8080/"
        },
        "id": "iKUMBRzhFAVE",
        "outputId": "e736fe49-d329-44fa-ae8e-7e73060396cf"
      },
      "execution_count": null,
      "outputs": [
        {
          "output_type": "stream",
          "name": "stdout",
          "text": [
            "Digite o número de termos para calcular π: 34\n",
            "Aproximação de π com 34 termos: 3.112187242699835\n"
          ]
        }
      ]
    },
    {
      "cell_type": "markdown",
      "source": [
        "Exercicio final"
      ],
      "metadata": {
        "id": "y9a8Enkrql0B"
      }
    },
    {
      "cell_type": "code",
      "source": [
        "def validar_cpf(cpf):\n",
        "\n",
        "    cpf = ''.join(filter(str.isdigit, str(cpf)))\n",
        "\n",
        "    if len(cpf) != 11 or cpf == cpf[0] * 11:\n",
        "        return False\n",
        "\n",
        "    soma1 = sum(int(cpf[i]) * (10 - i) for i in range(9))\n",
        "    digito1 = (soma1 * 10) % 11\n",
        "    digito1 = 0 if digito1 == 10 else digito1\n",
        "\n",
        "    soma2 = sum(int(cpf[i]) * (11 - i) for i in range(10))\n",
        "    digito2 = (soma2 * 10) % 11\n",
        "    digito2 = 0 if digito2 == 10 else digito2\n",
        "\n",
        "    return cpf[-2:] == f\"{digito1}{digito2}\"\n",
        "\n",
        "cpf_usuario = input(\"Digite um CPF para validação (apenas números ou com separadores): \")\n",
        "\n",
        "if validar_cpf(cpf_usuario):\n",
        "    print(\"CPF válido!\")\n",
        "else:\n",
        "    print(\"CPF inválido!\")"
      ],
      "metadata": {
        "colab": {
          "base_uri": "https://localhost:8080/"
        },
        "id": "2VcgS8Myqwl_",
        "outputId": "83a1a784-5f61-46c3-a0c2-335267e514d1"
      },
      "execution_count": null,
      "outputs": [
        {
          "output_type": "stream",
          "name": "stdout",
          "text": [
            "Digite um CPF para validação (apenas números ou com separadores): 13212312312\n",
            "CPF inválido!\n"
          ]
        }
      ]
    }
  ]
}